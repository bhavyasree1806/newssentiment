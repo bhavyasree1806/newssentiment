{
 "cells": [
  {
   "cell_type": "markdown",
   "metadata": {},
   "source": [
    "# News Sentiment on Stock Market Prediction"
   ]
  },
  {
   "cell_type": "markdown",
   "metadata": {},
   "source": [
    "#### Tianyi Hu\n",
    "#### th2761@columbia.edu"
   ]
  },
  {
   "cell_type": "markdown",
   "metadata": {},
   "source": [
    "# Import Packages"
   ]
  },
  {
   "cell_type": "code",
   "execution_count": 271,
   "metadata": {},
   "outputs": [],
   "source": [
    "import pandas as pd\n",
    "import numpy as np\n",
    "import matplotlib.pyplot as plt\n",
    "import matplotlib.dates as mdate\n",
    "from nltk.sentiment.vader import SentimentIntensityAnalyzer # VADER https://github.com/cjhutto/vaderSentiment\n",
    "from nltk import tokenize\n",
    "from sklearn.feature_extraction.text import CountVectorizer\n",
    "from sklearn.linear_model import LogisticRegression\n",
    "from nltk.corpus import stopwords\n",
    "import wordcloud\n",
    "import re\n",
    "import pysentiment as ps\n",
    "import datetime as dt\n",
    "from datetime import datetime\n",
    "from nltk.tokenize import word_tokenize\n",
    "from nltk.tokenize import word_tokenize, sent_tokenize\n",
    "from collections import Counter\n",
    "import string\n",
    "import nltk\n",
    "from nltk.stem import PorterStemmer \n",
    "from nltk.stem import WordNetLemmatizer \n",
    "from sklearn.naive_bayes import GaussianNB\n",
    "from sklearn.metrics import roc_curve\n",
    "from sklearn.metrics import roc_auc_score\n",
    "from sklearn.metrics import classification_report\n",
    "from sklearn.metrics import f1_score\n",
    "from sklearn.metrics import accuracy_score \n",
    "from sklearn.metrics import confusion_matrix\n",
    "from sklearn.feature_extraction.text import CountVectorizer\n",
    "from sklearn.ensemble import RandomForestClassifier\n",
    "from sklearn import svm\n",
    "from sklearn.svm import SVC, LinearSVC"
   ]
  },
  {
   "cell_type": "code",
   "execution_count": 2,
   "metadata": {},
   "outputs": [
    {
     "name": "stderr",
     "output_type": "stream",
     "text": [
      "[nltk_data] Downloading package punkt to /Users/tianyihu/nltk_data...\n",
      "[nltk_data]   Package punkt is already up-to-date!\n",
      "[nltk_data] Downloading package wordnet to\n",
      "[nltk_data]     /Users/tianyihu/nltk_data...\n",
      "[nltk_data]   Package wordnet is already up-to-date!\n"
     ]
    },
    {
     "data": {
      "text/plain": [
       "True"
      ]
     },
     "execution_count": 2,
     "metadata": {},
     "output_type": "execute_result"
    }
   ],
   "source": [
    "words = stopwords.words(\"english\")\n",
    "stemmer = PorterStemmer()\n",
    "nltk.download('punkt')\n",
    "nltk.download('wordnet')"
   ]
  },
  {
   "cell_type": "markdown",
   "metadata": {},
   "source": [
    "# Read Two Datasets (News headlines & DJIA Daily Price)"
   ]
  },
  {
   "cell_type": "code",
   "execution_count": 3,
   "metadata": {},
   "outputs": [],
   "source": [
    "df=pd.read_csv(\"News_Data.csv\",encoding = 'unicode_escape')\n",
    "dj_df = pd.read_csv(\"DJIA_price.csv\")\n",
    "dj_df = dj_df.sort_values(by = 'Date', ascending=True)"
   ]
  },
  {
   "cell_type": "code",
   "execution_count": 4,
   "metadata": {},
   "outputs": [
    {
     "data": {
      "text/html": [
       "<div>\n",
       "<style scoped>\n",
       "    .dataframe tbody tr th:only-of-type {\n",
       "        vertical-align: middle;\n",
       "    }\n",
       "\n",
       "    .dataframe tbody tr th {\n",
       "        vertical-align: top;\n",
       "    }\n",
       "\n",
       "    .dataframe thead th {\n",
       "        text-align: right;\n",
       "    }\n",
       "</style>\n",
       "<table border=\"1\" class=\"dataframe\">\n",
       "  <thead>\n",
       "    <tr style=\"text-align: right;\">\n",
       "      <th></th>\n",
       "      <th>Date</th>\n",
       "      <th>Open</th>\n",
       "      <th>High</th>\n",
       "      <th>Low</th>\n",
       "      <th>Close</th>\n",
       "      <th>Adj Close</th>\n",
       "      <th>Volume</th>\n",
       "    </tr>\n",
       "  </thead>\n",
       "  <tbody>\n",
       "    <tr>\n",
       "      <th>0</th>\n",
       "      <td>2000-01-03</td>\n",
       "      <td>11501.849609</td>\n",
       "      <td>11522.009766</td>\n",
       "      <td>11305.690430</td>\n",
       "      <td>11357.509766</td>\n",
       "      <td>11357.509766</td>\n",
       "      <td>169750000</td>\n",
       "    </tr>\n",
       "    <tr>\n",
       "      <th>1</th>\n",
       "      <td>2000-01-04</td>\n",
       "      <td>11349.750000</td>\n",
       "      <td>11350.059570</td>\n",
       "      <td>10986.450195</td>\n",
       "      <td>10997.929688</td>\n",
       "      <td>10997.929688</td>\n",
       "      <td>178420000</td>\n",
       "    </tr>\n",
       "    <tr>\n",
       "      <th>2</th>\n",
       "      <td>2000-01-05</td>\n",
       "      <td>10989.370117</td>\n",
       "      <td>11215.099609</td>\n",
       "      <td>10938.669922</td>\n",
       "      <td>11122.650391</td>\n",
       "      <td>11122.650391</td>\n",
       "      <td>203190000</td>\n",
       "    </tr>\n",
       "    <tr>\n",
       "      <th>3</th>\n",
       "      <td>2000-01-06</td>\n",
       "      <td>11113.370117</td>\n",
       "      <td>11313.450195</td>\n",
       "      <td>11098.450195</td>\n",
       "      <td>11253.259766</td>\n",
       "      <td>11253.259766</td>\n",
       "      <td>176550000</td>\n",
       "    </tr>\n",
       "    <tr>\n",
       "      <th>4</th>\n",
       "      <td>2000-01-07</td>\n",
       "      <td>11247.059570</td>\n",
       "      <td>11528.139648</td>\n",
       "      <td>11239.919922</td>\n",
       "      <td>11522.559570</td>\n",
       "      <td>11522.559570</td>\n",
       "      <td>184900000</td>\n",
       "    </tr>\n",
       "  </tbody>\n",
       "</table>\n",
       "</div>"
      ],
      "text/plain": [
       "         Date          Open          High           Low         Close  \\\n",
       "0  2000-01-03  11501.849609  11522.009766  11305.690430  11357.509766   \n",
       "1  2000-01-04  11349.750000  11350.059570  10986.450195  10997.929688   \n",
       "2  2000-01-05  10989.370117  11215.099609  10938.669922  11122.650391   \n",
       "3  2000-01-06  11113.370117  11313.450195  11098.450195  11253.259766   \n",
       "4  2000-01-07  11247.059570  11528.139648  11239.919922  11522.559570   \n",
       "\n",
       "      Adj Close     Volume  \n",
       "0  11357.509766  169750000  \n",
       "1  10997.929688  178420000  \n",
       "2  11122.650391  203190000  \n",
       "3  11253.259766  176550000  \n",
       "4  11522.559570  184900000  "
      ]
     },
     "execution_count": 4,
     "metadata": {},
     "output_type": "execute_result"
    }
   ],
   "source": [
    "dj_df.head(5)"
   ]
  },
  {
   "cell_type": "code",
   "execution_count": 5,
   "metadata": {},
   "outputs": [
    {
     "data": {
      "text/html": [
       "<div>\n",
       "<style scoped>\n",
       "    .dataframe tbody tr th:only-of-type {\n",
       "        vertical-align: middle;\n",
       "    }\n",
       "\n",
       "    .dataframe tbody tr th {\n",
       "        vertical-align: top;\n",
       "    }\n",
       "\n",
       "    .dataframe thead th {\n",
       "        text-align: right;\n",
       "    }\n",
       "</style>\n",
       "<table border=\"1\" class=\"dataframe\">\n",
       "  <thead>\n",
       "    <tr style=\"text-align: right;\">\n",
       "      <th></th>\n",
       "      <th>Date</th>\n",
       "      <th>Top1</th>\n",
       "      <th>Top2</th>\n",
       "      <th>Top3</th>\n",
       "      <th>Top4</th>\n",
       "      <th>Top5</th>\n",
       "      <th>Top6</th>\n",
       "      <th>Top7</th>\n",
       "      <th>Top8</th>\n",
       "      <th>Top9</th>\n",
       "      <th>...</th>\n",
       "      <th>Top16</th>\n",
       "      <th>Top17</th>\n",
       "      <th>Top18</th>\n",
       "      <th>Top19</th>\n",
       "      <th>Top20</th>\n",
       "      <th>Top21</th>\n",
       "      <th>Top22</th>\n",
       "      <th>Top23</th>\n",
       "      <th>Top24</th>\n",
       "      <th>Top25</th>\n",
       "    </tr>\n",
       "  </thead>\n",
       "  <tbody>\n",
       "    <tr>\n",
       "      <th>0</th>\n",
       "      <td>2000-01-03</td>\n",
       "      <td>A 'hindrance to operations': extracts from the...</td>\n",
       "      <td>Scorecard</td>\n",
       "      <td>Hughes' instant hit buoys Blues</td>\n",
       "      <td>Jack gets his skates on at ice-cold Alex</td>\n",
       "      <td>Chaos as Maracana builds up for United</td>\n",
       "      <td>Depleted Leicester prevail as Elliott spoils E...</td>\n",
       "      <td>Hungry Spurs sense rich pickings</td>\n",
       "      <td>Gunners so wide of an easy target</td>\n",
       "      <td>Derby raise a glass to Strupar's debut double</td>\n",
       "      <td>...</td>\n",
       "      <td>Flintoff injury piles on woe for England</td>\n",
       "      <td>Hunters threaten Jospin with new battle of the...</td>\n",
       "      <td>Kohl's successor drawn into scandal</td>\n",
       "      <td>The difference between men and women</td>\n",
       "      <td>Sara Denver, nurse turned solicitor</td>\n",
       "      <td>Diana's landmine crusade put Tories in a panic</td>\n",
       "      <td>Yeltsin's resignation caught opposition flat-f...</td>\n",
       "      <td>Russian roulette</td>\n",
       "      <td>Sold out</td>\n",
       "      <td>Recovering a title</td>\n",
       "    </tr>\n",
       "    <tr>\n",
       "      <th>1</th>\n",
       "      <td>2000-01-04</td>\n",
       "      <td>Scorecard</td>\n",
       "      <td>The best lake scene</td>\n",
       "      <td>Leader: German sleaze inquiry</td>\n",
       "      <td>Cheerio, boyo</td>\n",
       "      <td>The main recommendations</td>\n",
       "      <td>Has Cubie killed fees?</td>\n",
       "      <td>Has Cubie killed fees?</td>\n",
       "      <td>Has Cubie killed fees?</td>\n",
       "      <td>Hopkins 'furious' at Foster's lack of Hannibal...</td>\n",
       "      <td>...</td>\n",
       "      <td>On the critical list</td>\n",
       "      <td>The timing of their lives</td>\n",
       "      <td>Dear doctor</td>\n",
       "      <td>Irish court halts IRA man's extradition to Nor...</td>\n",
       "      <td>Burundi peace initiative fades after rebels re...</td>\n",
       "      <td>PE points the way forward to the ECB</td>\n",
       "      <td>Campaigners keep up pressure on Nazi war crime...</td>\n",
       "      <td>Jane Ratcliffe</td>\n",
       "      <td>Yet more things you wouldn't know without the ...</td>\n",
       "      <td>Millennium bug fails to bite</td>\n",
       "    </tr>\n",
       "    <tr>\n",
       "      <th>2</th>\n",
       "      <td>2000-01-05</td>\n",
       "      <td>Coventry caught on counter by Flo</td>\n",
       "      <td>United's rivals on the road to Rio</td>\n",
       "      <td>Thatcher issues defence before trial by video</td>\n",
       "      <td>Police help Smith lay down the law at Everton</td>\n",
       "      <td>Tale of Trautmann bears two more retellings</td>\n",
       "      <td>England on the rack</td>\n",
       "      <td>Pakistan retaliate with call for video of Walsh</td>\n",
       "      <td>Cullinan continues his Cape monopoly</td>\n",
       "      <td>McGrath puts India out of their misery</td>\n",
       "      <td>...</td>\n",
       "      <td>South Melbourne (Australia)</td>\n",
       "      <td>Necaxa (Mexico)</td>\n",
       "      <td>Real Madrid (Spain)</td>\n",
       "      <td>Raja Casablanca (Morocco)</td>\n",
       "      <td>Corinthians (Brazil)</td>\n",
       "      <td>Tony's pet project</td>\n",
       "      <td>Al Nassr (Saudi Arabia)</td>\n",
       "      <td>Ideal Holmes show</td>\n",
       "      <td>Pinochet leaves hospital after tests</td>\n",
       "      <td>Useful links</td>\n",
       "    </tr>\n",
       "  </tbody>\n",
       "</table>\n",
       "<p>3 rows × 26 columns</p>\n",
       "</div>"
      ],
      "text/plain": [
       "         Date                                               Top1  \\\n",
       "0  2000-01-03  A 'hindrance to operations': extracts from the...   \n",
       "1  2000-01-04                                          Scorecard   \n",
       "2  2000-01-05                  Coventry caught on counter by Flo   \n",
       "\n",
       "                                 Top2  \\\n",
       "0                           Scorecard   \n",
       "1                 The best lake scene   \n",
       "2  United's rivals on the road to Rio   \n",
       "\n",
       "                                            Top3  \\\n",
       "0                Hughes' instant hit buoys Blues   \n",
       "1                  Leader: German sleaze inquiry   \n",
       "2  Thatcher issues defence before trial by video   \n",
       "\n",
       "                                            Top4  \\\n",
       "0       Jack gets his skates on at ice-cold Alex   \n",
       "1                                  Cheerio, boyo   \n",
       "2  Police help Smith lay down the law at Everton   \n",
       "\n",
       "                                          Top5  \\\n",
       "0       Chaos as Maracana builds up for United   \n",
       "1                     The main recommendations   \n",
       "2  Tale of Trautmann bears two more retellings   \n",
       "\n",
       "                                                Top6  \\\n",
       "0  Depleted Leicester prevail as Elliott spoils E...   \n",
       "1                             Has Cubie killed fees?   \n",
       "2                                England on the rack   \n",
       "\n",
       "                                              Top7  \\\n",
       "0                 Hungry Spurs sense rich pickings   \n",
       "1                           Has Cubie killed fees?   \n",
       "2  Pakistan retaliate with call for video of Walsh   \n",
       "\n",
       "                                   Top8  \\\n",
       "0     Gunners so wide of an easy target   \n",
       "1                Has Cubie killed fees?   \n",
       "2  Cullinan continues his Cape monopoly   \n",
       "\n",
       "                                                Top9  ...  \\\n",
       "0      Derby raise a glass to Strupar's debut double  ...   \n",
       "1  Hopkins 'furious' at Foster's lack of Hannibal...  ...   \n",
       "2             McGrath puts India out of their misery  ...   \n",
       "\n",
       "                                      Top16  \\\n",
       "0  Flintoff injury piles on woe for England   \n",
       "1                      On the critical list   \n",
       "2               South Melbourne (Australia)   \n",
       "\n",
       "                                               Top17  \\\n",
       "0  Hunters threaten Jospin with new battle of the...   \n",
       "1                          The timing of their lives   \n",
       "2                                    Necaxa (Mexico)   \n",
       "\n",
       "                                 Top18  \\\n",
       "0  Kohl's successor drawn into scandal   \n",
       "1                          Dear doctor   \n",
       "2                  Real Madrid (Spain)   \n",
       "\n",
       "                                               Top19  \\\n",
       "0               The difference between men and women   \n",
       "1  Irish court halts IRA man's extradition to Nor...   \n",
       "2                          Raja Casablanca (Morocco)   \n",
       "\n",
       "                                               Top20  \\\n",
       "0                Sara Denver, nurse turned solicitor   \n",
       "1  Burundi peace initiative fades after rebels re...   \n",
       "2                               Corinthians (Brazil)   \n",
       "\n",
       "                                            Top21  \\\n",
       "0  Diana's landmine crusade put Tories in a panic   \n",
       "1            PE points the way forward to the ECB   \n",
       "2                              Tony's pet project   \n",
       "\n",
       "                                               Top22              Top23  \\\n",
       "0  Yeltsin's resignation caught opposition flat-f...   Russian roulette   \n",
       "1  Campaigners keep up pressure on Nazi war crime...     Jane Ratcliffe   \n",
       "2                            Al Nassr (Saudi Arabia)  Ideal Holmes show   \n",
       "\n",
       "                                               Top24  \\\n",
       "0                                           Sold out   \n",
       "1  Yet more things you wouldn't know without the ...   \n",
       "2               Pinochet leaves hospital after tests   \n",
       "\n",
       "                          Top25  \n",
       "0            Recovering a title  \n",
       "1  Millennium bug fails to bite  \n",
       "2                  Useful links  \n",
       "\n",
       "[3 rows x 26 columns]"
      ]
     },
     "execution_count": 5,
     "metadata": {},
     "output_type": "execute_result"
    }
   ],
   "source": [
    "df.head(3)"
   ]
  },
  {
   "cell_type": "markdown",
   "metadata": {},
   "source": [
    "# Merge Two Datasets; Add New Column (Label)\n",
    "### Label: 0 (decrease);1(increase or keep same)"
   ]
  },
  {
   "cell_type": "code",
   "execution_count": 6,
   "metadata": {},
   "outputs": [
    {
     "name": "stderr",
     "output_type": "stream",
     "text": [
      "/Users/tianyihu/anaconda3/lib/python3.6/site-packages/ipykernel_launcher.py:2: SettingWithCopyWarning: \n",
      "A value is trying to be set on a copy of a slice from a DataFrame\n",
      "\n",
      "See the caveats in the documentation: http://pandas.pydata.org/pandas-docs/stable/indexing.html#indexing-view-versus-copy\n",
      "  \n"
     ]
    },
    {
     "data": {
      "text/html": [
       "<div>\n",
       "<style scoped>\n",
       "    .dataframe tbody tr th:only-of-type {\n",
       "        vertical-align: middle;\n",
       "    }\n",
       "\n",
       "    .dataframe tbody tr th {\n",
       "        vertical-align: top;\n",
       "    }\n",
       "\n",
       "    .dataframe thead th {\n",
       "        text-align: right;\n",
       "    }\n",
       "</style>\n",
       "<table border=\"1\" class=\"dataframe\">\n",
       "  <thead>\n",
       "    <tr style=\"text-align: right;\">\n",
       "      <th></th>\n",
       "      <th>Date</th>\n",
       "      <th>Label</th>\n",
       "      <th>Top1</th>\n",
       "      <th>Top2</th>\n",
       "      <th>Top3</th>\n",
       "      <th>Top4</th>\n",
       "      <th>Top5</th>\n",
       "      <th>Top6</th>\n",
       "      <th>Top7</th>\n",
       "      <th>Top8</th>\n",
       "      <th>...</th>\n",
       "      <th>Top16</th>\n",
       "      <th>Top17</th>\n",
       "      <th>Top18</th>\n",
       "      <th>Top19</th>\n",
       "      <th>Top20</th>\n",
       "      <th>Top21</th>\n",
       "      <th>Top22</th>\n",
       "      <th>Top23</th>\n",
       "      <th>Top24</th>\n",
       "      <th>Top25</th>\n",
       "    </tr>\n",
       "  </thead>\n",
       "  <tbody>\n",
       "    <tr>\n",
       "      <th>0</th>\n",
       "      <td>2000-01-03</td>\n",
       "      <td>0</td>\n",
       "      <td>A 'hindrance to operations': extracts from the...</td>\n",
       "      <td>Scorecard</td>\n",
       "      <td>Hughes' instant hit buoys Blues</td>\n",
       "      <td>Jack gets his skates on at ice-cold Alex</td>\n",
       "      <td>Chaos as Maracana builds up for United</td>\n",
       "      <td>Depleted Leicester prevail as Elliott spoils E...</td>\n",
       "      <td>Hungry Spurs sense rich pickings</td>\n",
       "      <td>Gunners so wide of an easy target</td>\n",
       "      <td>...</td>\n",
       "      <td>Flintoff injury piles on woe for England</td>\n",
       "      <td>Hunters threaten Jospin with new battle of the...</td>\n",
       "      <td>Kohl's successor drawn into scandal</td>\n",
       "      <td>The difference between men and women</td>\n",
       "      <td>Sara Denver, nurse turned solicitor</td>\n",
       "      <td>Diana's landmine crusade put Tories in a panic</td>\n",
       "      <td>Yeltsin's resignation caught opposition flat-f...</td>\n",
       "      <td>Russian roulette</td>\n",
       "      <td>Sold out</td>\n",
       "      <td>Recovering a title</td>\n",
       "    </tr>\n",
       "    <tr>\n",
       "      <th>1</th>\n",
       "      <td>2000-01-04</td>\n",
       "      <td>0</td>\n",
       "      <td>Scorecard</td>\n",
       "      <td>The best lake scene</td>\n",
       "      <td>Leader: German sleaze inquiry</td>\n",
       "      <td>Cheerio, boyo</td>\n",
       "      <td>The main recommendations</td>\n",
       "      <td>Has Cubie killed fees?</td>\n",
       "      <td>Has Cubie killed fees?</td>\n",
       "      <td>Has Cubie killed fees?</td>\n",
       "      <td>...</td>\n",
       "      <td>On the critical list</td>\n",
       "      <td>The timing of their lives</td>\n",
       "      <td>Dear doctor</td>\n",
       "      <td>Irish court halts IRA man's extradition to Nor...</td>\n",
       "      <td>Burundi peace initiative fades after rebels re...</td>\n",
       "      <td>PE points the way forward to the ECB</td>\n",
       "      <td>Campaigners keep up pressure on Nazi war crime...</td>\n",
       "      <td>Jane Ratcliffe</td>\n",
       "      <td>Yet more things you wouldn't know without the ...</td>\n",
       "      <td>Millennium bug fails to bite</td>\n",
       "    </tr>\n",
       "    <tr>\n",
       "      <th>2</th>\n",
       "      <td>2000-01-05</td>\n",
       "      <td>1</td>\n",
       "      <td>Coventry caught on counter by Flo</td>\n",
       "      <td>United's rivals on the road to Rio</td>\n",
       "      <td>Thatcher issues defence before trial by video</td>\n",
       "      <td>Police help Smith lay down the law at Everton</td>\n",
       "      <td>Tale of Trautmann bears two more retellings</td>\n",
       "      <td>England on the rack</td>\n",
       "      <td>Pakistan retaliate with call for video of Walsh</td>\n",
       "      <td>Cullinan continues his Cape monopoly</td>\n",
       "      <td>...</td>\n",
       "      <td>South Melbourne (Australia)</td>\n",
       "      <td>Necaxa (Mexico)</td>\n",
       "      <td>Real Madrid (Spain)</td>\n",
       "      <td>Raja Casablanca (Morocco)</td>\n",
       "      <td>Corinthians (Brazil)</td>\n",
       "      <td>Tony's pet project</td>\n",
       "      <td>Al Nassr (Saudi Arabia)</td>\n",
       "      <td>Ideal Holmes show</td>\n",
       "      <td>Pinochet leaves hospital after tests</td>\n",
       "      <td>Useful links</td>\n",
       "    </tr>\n",
       "  </tbody>\n",
       "</table>\n",
       "<p>3 rows × 27 columns</p>\n",
       "</div>"
      ],
      "text/plain": [
       "         Date Label                                               Top1  \\\n",
       "0  2000-01-03     0  A 'hindrance to operations': extracts from the...   \n",
       "1  2000-01-04     0                                          Scorecard   \n",
       "2  2000-01-05     1                  Coventry caught on counter by Flo   \n",
       "\n",
       "                                 Top2  \\\n",
       "0                           Scorecard   \n",
       "1                 The best lake scene   \n",
       "2  United's rivals on the road to Rio   \n",
       "\n",
       "                                            Top3  \\\n",
       "0                Hughes' instant hit buoys Blues   \n",
       "1                  Leader: German sleaze inquiry   \n",
       "2  Thatcher issues defence before trial by video   \n",
       "\n",
       "                                            Top4  \\\n",
       "0       Jack gets his skates on at ice-cold Alex   \n",
       "1                                  Cheerio, boyo   \n",
       "2  Police help Smith lay down the law at Everton   \n",
       "\n",
       "                                          Top5  \\\n",
       "0       Chaos as Maracana builds up for United   \n",
       "1                     The main recommendations   \n",
       "2  Tale of Trautmann bears two more retellings   \n",
       "\n",
       "                                                Top6  \\\n",
       "0  Depleted Leicester prevail as Elliott spoils E...   \n",
       "1                             Has Cubie killed fees?   \n",
       "2                                England on the rack   \n",
       "\n",
       "                                              Top7  \\\n",
       "0                 Hungry Spurs sense rich pickings   \n",
       "1                           Has Cubie killed fees?   \n",
       "2  Pakistan retaliate with call for video of Walsh   \n",
       "\n",
       "                                   Top8  ...  \\\n",
       "0     Gunners so wide of an easy target  ...   \n",
       "1                Has Cubie killed fees?  ...   \n",
       "2  Cullinan continues his Cape monopoly  ...   \n",
       "\n",
       "                                      Top16  \\\n",
       "0  Flintoff injury piles on woe for England   \n",
       "1                      On the critical list   \n",
       "2               South Melbourne (Australia)   \n",
       "\n",
       "                                               Top17  \\\n",
       "0  Hunters threaten Jospin with new battle of the...   \n",
       "1                          The timing of their lives   \n",
       "2                                    Necaxa (Mexico)   \n",
       "\n",
       "                                 Top18  \\\n",
       "0  Kohl's successor drawn into scandal   \n",
       "1                          Dear doctor   \n",
       "2                  Real Madrid (Spain)   \n",
       "\n",
       "                                               Top19  \\\n",
       "0               The difference between men and women   \n",
       "1  Irish court halts IRA man's extradition to Nor...   \n",
       "2                          Raja Casablanca (Morocco)   \n",
       "\n",
       "                                               Top20  \\\n",
       "0                Sara Denver, nurse turned solicitor   \n",
       "1  Burundi peace initiative fades after rebels re...   \n",
       "2                               Corinthians (Brazil)   \n",
       "\n",
       "                                            Top21  \\\n",
       "0  Diana's landmine crusade put Tories in a panic   \n",
       "1            PE points the way forward to the ECB   \n",
       "2                              Tony's pet project   \n",
       "\n",
       "                                               Top22              Top23  \\\n",
       "0  Yeltsin's resignation caught opposition flat-f...   Russian roulette   \n",
       "1  Campaigners keep up pressure on Nazi war crime...     Jane Ratcliffe   \n",
       "2                            Al Nassr (Saudi Arabia)  Ideal Holmes show   \n",
       "\n",
       "                                               Top24  \\\n",
       "0                                           Sold out   \n",
       "1  Yet more things you wouldn't know without the ...   \n",
       "2               Pinochet leaves hospital after tests   \n",
       "\n",
       "                          Top25  \n",
       "0            Recovering a title  \n",
       "1  Millennium bug fails to bite  \n",
       "2                  Useful links  \n",
       "\n",
       "[3 rows x 27 columns]"
      ]
     },
     "execution_count": 6,
     "metadata": {},
     "output_type": "execute_result"
    }
   ],
   "source": [
    "dj_df['change']=dj_df['Adj Close']-dj_df['Adj Close'].shift(1)\n",
    "dj_df['change'][0]='-139.61'\n",
    "full_data=pd.merge(df,dj_df,how='inner',on=None,left_on=None,right_on=None,left_index=False,right_index=False,sort=True,suffixes=('_x','_y'),copy=True,indicator=False)\n",
    "full_data[\"Label\"] = [\"1\" if change >=0 else \"0\" \n",
    "                            for change in full_data[\"change\"].apply(int)]\n",
    "df=full_data[['Date','Label',\"Top1\",\"Top2\",\"Top3\",\"Top4\",\"Top5\",\"Top6\",\"Top7\",\"Top8\",\"Top9\",\"Top10\",\"Top11\",\"Top12\",\"Top13\",\"Top14\",\"Top15\",\"Top16\",\"Top17\",\"Top18\",\"Top19\",\"Top20\",\"Top21\",\"Top22\",\"Top23\",\"Top24\",\"Top25\"]]\n",
    "df.head(3)"
   ]
  },
  {
   "cell_type": "markdown",
   "metadata": {},
   "source": [
    "# Raw Data Description"
   ]
  },
  {
   "cell_type": "code",
   "execution_count": 7,
   "metadata": {},
   "outputs": [],
   "source": [
    "dj_df=dj_df.set_index('Date')"
   ]
  },
  {
   "cell_type": "code",
   "execution_count": 8,
   "metadata": {},
   "outputs": [
    {
     "data": {
      "image/png": "[encoded data removed]",
      "text/plain": [
       "<Figure size 864x432 with 1 Axes>"
      ]
     },
     "metadata": {
      "needs_background": "light"
     },
     "output_type": "display_data"
    }
   ],
   "source": [
    "figsize = 12,6\n",
    "dj_df['Adj Close'].plot(figsize=figsize,color = 'black')\n",
    "plt.xlabel('year')\n",
    "plt.ylabel('price')\n",
    "plt.show()"
   ]
  },
  {
   "cell_type": "markdown",
   "metadata": {},
   "source": [
    "# Text Preprocessing"
   ]
  },
  {
   "cell_type": "code",
   "execution_count": 150,
   "metadata": {},
   "outputs": [
    {
     "name": "stderr",
     "output_type": "stream",
     "text": [
      "/Users/tianyihu/anaconda3/lib/python3.6/site-packages/ipykernel_launcher.py:3: SettingWithCopyWarning: \n",
      "A value is trying to be set on a copy of a slice from a DataFrame.\n",
      "Try using .loc[row_indexer,col_indexer] = value instead\n",
      "\n",
      "See the caveats in the documentation: http://pandas.pydata.org/pandas-docs/stable/indexing.html#indexing-view-versus-copy\n",
      "  This is separate from the ipykernel package so we can avoid doing imports until\n"
     ]
    },
    {
     "data": {
      "text/html": [
       "<div>\n",
       "<style scoped>\n",
       "    .dataframe tbody tr th:only-of-type {\n",
       "        vertical-align: middle;\n",
       "    }\n",
       "\n",
       "    .dataframe tbody tr th {\n",
       "        vertical-align: top;\n",
       "    }\n",
       "\n",
       "    .dataframe thead th {\n",
       "        text-align: right;\n",
       "    }\n",
       "</style>\n",
       "<table border=\"1\" class=\"dataframe\">\n",
       "  <thead>\n",
       "    <tr style=\"text-align: right;\">\n",
       "      <th></th>\n",
       "      <th>Date</th>\n",
       "      <th>Label</th>\n",
       "      <th>Joined News</th>\n",
       "    </tr>\n",
       "  </thead>\n",
       "  <tbody>\n",
       "    <tr>\n",
       "      <th>0</th>\n",
       "      <td>2000-01-03</td>\n",
       "      <td>0</td>\n",
       "      <td>A 'hindrance to operations': extracts from the...</td>\n",
       "    </tr>\n",
       "    <tr>\n",
       "      <th>1</th>\n",
       "      <td>2000-01-04</td>\n",
       "      <td>0</td>\n",
       "      <td>Scorecard The best lake scene Leader: German s...</td>\n",
       "    </tr>\n",
       "    <tr>\n",
       "      <th>2</th>\n",
       "      <td>2000-01-05</td>\n",
       "      <td>1</td>\n",
       "      <td>Coventry caught on counter by Flo United's riv...</td>\n",
       "    </tr>\n",
       "    <tr>\n",
       "      <th>3</th>\n",
       "      <td>2000-01-06</td>\n",
       "      <td>1</td>\n",
       "      <td>Pilgrim knows how to progress Thatcher facing ...</td>\n",
       "    </tr>\n",
       "    <tr>\n",
       "      <th>4</th>\n",
       "      <td>2000-01-07</td>\n",
       "      <td>1</td>\n",
       "      <td>Hitches and Horlocks Beckham off but United su...</td>\n",
       "    </tr>\n",
       "  </tbody>\n",
       "</table>\n",
       "</div>"
      ],
      "text/plain": [
       "         Date Label                                        Joined News\n",
       "0  2000-01-03     0  A 'hindrance to operations': extracts from the...\n",
       "1  2000-01-04     0  Scorecard The best lake scene Leader: German s...\n",
       "2  2000-01-05     1  Coventry caught on counter by Flo United's riv...\n",
       "3  2000-01-06     1  Pilgrim knows how to progress Thatcher facing ...\n",
       "4  2000-01-07     1  Hitches and Horlocks Beckham off but United su..."
      ]
     },
     "execution_count": 150,
     "metadata": {},
     "output_type": "execute_result"
    }
   ],
   "source": [
    "# Create a new column with the Top N news joined.\n",
    "columns = ['Top' + str(i+1) for i in range(20)]\n",
    "df['Joined News'] = df[columns].apply(lambda x: ' '.join(x.astype(str)), axis=1)\n",
    "# Create a new dataframe with only Date and joined columns\n",
    "df1 = df[['Date', 'Label','Joined News']].copy()\n",
    "df1.head()"
   ]
  },
  {
   "cell_type": "code",
   "execution_count": 151,
   "metadata": {},
   "outputs": [],
   "source": [
    "#Lower Case\n",
    "df1['Joined News'] = df1['Joined News'] .apply(lambda x: \" \".join(x.lower() for x in x.split()))\n",
    "#Remove Punctuation\n",
    "df1['Joined News'] = df1['Joined News'] .str.replace('[^\\w\\s]','')\n",
    "#Remove Stopwords\n",
    "stop = stopwords.words('english')\n",
    "df1['cleaned'] = df1['Joined News'].apply(lambda x: \" \".join(x for x in x.split() if x not in stop))\n",
    "#Tokenize\n",
    "df1['review_tokenized'] = df1.cleaned.apply(lambda x: word_tokenize(x))\n",
    "#Lemmatization\n",
    "lemmatizer = WordNetLemmatizer()\n",
    "df1['review_lemmatized'] = df1.review_tokenized.apply(lambda x: [lemmatizer.lemmatize(word) for word in x])"
   ]
  },
  {
   "cell_type": "code",
   "execution_count": 152,
   "metadata": {},
   "outputs": [
    {
     "data": {
      "text/html": [
       "<div>\n",
       "<style scoped>\n",
       "    .dataframe tbody tr th:only-of-type {\n",
       "        vertical-align: middle;\n",
       "    }\n",
       "\n",
       "    .dataframe tbody tr th {\n",
       "        vertical-align: top;\n",
       "    }\n",
       "\n",
       "    .dataframe thead th {\n",
       "        text-align: right;\n",
       "    }\n",
       "</style>\n",
       "<table border=\"1\" class=\"dataframe\">\n",
       "  <thead>\n",
       "    <tr style=\"text-align: right;\">\n",
       "      <th></th>\n",
       "      <th>Date</th>\n",
       "      <th>Label</th>\n",
       "      <th>Joined News</th>\n",
       "      <th>cleaned</th>\n",
       "      <th>review_tokenized</th>\n",
       "      <th>review_lemmatized</th>\n",
       "    </tr>\n",
       "  </thead>\n",
       "  <tbody>\n",
       "    <tr>\n",
       "      <th>0</th>\n",
       "      <td>2000-01-03</td>\n",
       "      <td>0</td>\n",
       "      <td>a hindrance to operations extracts from the le...</td>\n",
       "      <td>hindrance operations extracts leaked reports s...</td>\n",
       "      <td>[hindrance, operations, extracts, leaked, repo...</td>\n",
       "      <td>[hindrance, operation, extract, leaked, report...</td>\n",
       "    </tr>\n",
       "    <tr>\n",
       "      <th>1</th>\n",
       "      <td>2000-01-04</td>\n",
       "      <td>0</td>\n",
       "      <td>scorecard the best lake scene leader german sl...</td>\n",
       "      <td>scorecard best lake scene leader german sleaze...</td>\n",
       "      <td>[scorecard, best, lake, scene, leader, german,...</td>\n",
       "      <td>[scorecard, best, lake, scene, leader, german,...</td>\n",
       "    </tr>\n",
       "    <tr>\n",
       "      <th>2</th>\n",
       "      <td>2000-01-05</td>\n",
       "      <td>1</td>\n",
       "      <td>coventry caught on counter by flo uniteds riva...</td>\n",
       "      <td>coventry caught counter flo uniteds rivals roa...</td>\n",
       "      <td>[coventry, caught, counter, flo, uniteds, riva...</td>\n",
       "      <td>[coventry, caught, counter, flo, uniteds, riva...</td>\n",
       "    </tr>\n",
       "    <tr>\n",
       "      <th>3</th>\n",
       "      <td>2000-01-06</td>\n",
       "      <td>1</td>\n",
       "      <td>pilgrim knows how to progress thatcher facing ...</td>\n",
       "      <td>pilgrim knows progress thatcher facing ban mci...</td>\n",
       "      <td>[pilgrim, knows, progress, thatcher, facing, b...</td>\n",
       "      <td>[pilgrim, know, progress, thatcher, facing, ba...</td>\n",
       "    </tr>\n",
       "    <tr>\n",
       "      <th>4</th>\n",
       "      <td>2000-01-07</td>\n",
       "      <td>1</td>\n",
       "      <td>hitches and horlocks beckham off but united su...</td>\n",
       "      <td>hitches horlocks beckham united survive breast...</td>\n",
       "      <td>[hitches, horlocks, beckham, united, survive, ...</td>\n",
       "      <td>[hitch, horlocks, beckham, united, survive, br...</td>\n",
       "    </tr>\n",
       "  </tbody>\n",
       "</table>\n",
       "</div>"
      ],
      "text/plain": [
       "         Date Label                                        Joined News  \\\n",
       "0  2000-01-03     0  a hindrance to operations extracts from the le...   \n",
       "1  2000-01-04     0  scorecard the best lake scene leader german sl...   \n",
       "2  2000-01-05     1  coventry caught on counter by flo uniteds riva...   \n",
       "3  2000-01-06     1  pilgrim knows how to progress thatcher facing ...   \n",
       "4  2000-01-07     1  hitches and horlocks beckham off but united su...   \n",
       "\n",
       "                                             cleaned  \\\n",
       "0  hindrance operations extracts leaked reports s...   \n",
       "1  scorecard best lake scene leader german sleaze...   \n",
       "2  coventry caught counter flo uniteds rivals roa...   \n",
       "3  pilgrim knows progress thatcher facing ban mci...   \n",
       "4  hitches horlocks beckham united survive breast...   \n",
       "\n",
       "                                    review_tokenized  \\\n",
       "0  [hindrance, operations, extracts, leaked, repo...   \n",
       "1  [scorecard, best, lake, scene, leader, german,...   \n",
       "2  [coventry, caught, counter, flo, uniteds, riva...   \n",
       "3  [pilgrim, knows, progress, thatcher, facing, b...   \n",
       "4  [hitches, horlocks, beckham, united, survive, ...   \n",
       "\n",
       "                                   review_lemmatized  \n",
       "0  [hindrance, operation, extract, leaked, report...  \n",
       "1  [scorecard, best, lake, scene, leader, german,...  \n",
       "2  [coventry, caught, counter, flo, uniteds, riva...  \n",
       "3  [pilgrim, know, progress, thatcher, facing, ba...  \n",
       "4  [hitch, horlocks, beckham, united, survive, br...  "
      ]
     },
     "execution_count": 152,
     "metadata": {},
     "output_type": "execute_result"
    }
   ],
   "source": [
    "df1.head()"
   ]
  },
  {
   "cell_type": "markdown",
   "metadata": {},
   "source": [
    "# Create WordCloud"
   ]
  },
  {
   "cell_type": "code",
   "execution_count": 348,
   "metadata": {},
   "outputs": [
    {
     "data": {
      "image/png": "[encoded data removed]",
      "text/plain": [
       "<Figure size 864x432 with 1 Axes>"
      ]
     },
     "metadata": {
      "needs_background": "light"
     },
     "output_type": "display_data"
    }
   ],
   "source": [
    "#Create Wordcloud\n",
    "news_combined = ''\n",
    "news_lemm=''\n",
    "for row in range(0,len(df.index)):\n",
    "    news_combined+=' '.join(str(x).lower().strip() for x in df.iloc[row,2:27] if x  not in stop)\n",
    "    \n",
    "vectorizer = CountVectorizer()\n",
    "news_vect = vectorizer.build_tokenizer()(news_combined)\n",
    "lemmatizer = WordNetLemmatizer()\n",
    "news_lemm = ' '.join([lemmatizer.lemmatize(w) for w in news_vect])\n",
    "\n",
    "word_counts = pd.DataFrame([[x,news_lemm.count(x)] for x in set(news_lemm)], columns = ['Word', 'Count'])\n",
    "# colormap: https://matplotlib.org/examples/color/colormaps_reference.html\n",
    "# To present in my thesis paper, I chose colormap='gist_gray'\n",
    "wordcloud = WordCloud(background_color=\"white\",max_words=100, colormap='gist_gray').generate(news_combined)\n",
    "plt.figure(figsize=(12,6))\n",
    "plt.imshow(wordcloud, interpolation='bilinear')\n",
    "plt.axis(\"off\")\n",
    "plt.show()"
   ]
  },
  {
   "cell_type": "code",
   "execution_count": 346,
   "metadata": {},
   "outputs": [
    {
     "data": {
      "text/plain": [
       "<matplotlib.axes._subplots.AxesSubplot at 0x14ef0beb8>"
      ]
     },
     "execution_count": 346,
     "metadata": {},
     "output_type": "execute_result"
    },
    {
     "data": {
      "image/png": "[encoded data removed]",
      "text/plain": [
       "<Figure size 864x432 with 1 Axes>"
      ]
     },
     "metadata": {
      "needs_background": "light"
     },
     "output_type": "display_data"
    }
   ],
   "source": [
    "news_list =df1['review_lemmatized'].tolist()\n",
    "news_list = [item for sublist in news_list for item in sublist]\n",
    "word_counter = Counter(news_list)\n",
    "most_common_words = word_counter.most_common()[:15]\n",
    "most_common_words = pd.DataFrame(most_common_words)\n",
    "most_common_words.columns = ['word', 'freq']\n",
    "most_common_words.sort_values(by='freq',ascending=False).plot(x='word', kind='bar', color='black',figsize=figsize)"
   ]
  },
  {
   "cell_type": "markdown",
   "metadata": {},
   "source": [
    "# VADER analysis"
   ]
  },
  {
   "cell_type": "code",
   "execution_count": 33,
   "metadata": {},
   "outputs": [
    {
     "data": {
      "image/png": "[encoded data removed]",
      "text/plain": [
       "<Figure size 864x432 with 1 Axes>"
      ]
     },
     "metadata": {
      "needs_background": "light"
     },
     "output_type": "display_data"
    }
   ],
   "source": [
    "vscores = pd.DataFrame(index = df.Date, columns = ['Compound', 'Positive', 'Negative', \"Neutral\"])\n",
    "analyzer = SentimentIntensityAnalyzer() # Use the VADER Sentiment Analyzer\n",
    "for j in range(0,df.shape[0]):    \n",
    "    tmp_neu = 0\n",
    "    tmp_neg = 0\n",
    "    tmp_pos = 0\n",
    "    tmp_comp = 0\n",
    "    for i in range(2,df.shape[1]):\n",
    "        text = df.iloc[j,i]\n",
    "        if(str(text) == \"nan\"):\n",
    "            tmp_comp +=  0\n",
    "            tmp_neg += 0\n",
    "            tmp_neu += 0\n",
    "            tmp_pos += 0\n",
    "        else:\n",
    "            vs = analyzer.polarity_scores(df.iloc[j,i])\n",
    "            tmp_comp +=  vs['compound']\n",
    "            tmp_neg += vs['neg']\n",
    "            tmp_neu += vs['neu']\n",
    "            tmp_pos += vs['pos']\n",
    "    \n",
    "    vscores.iloc[j,] = [tmp_comp, tmp_pos, tmp_neg, tmp_neu]\n",
    "vscores['Score']=vscores['Compound']/25\n",
    "vscores.index = pd.to_datetime(vscores.index)\n",
    "vscores_part=vscores[2150:]\n",
    "plt.figure(figsize=(12,6)) \n",
    "plt.xticks(fontsize =10)\n",
    "plt.yticks(fontsize =10)\n",
    "plt.xlabel('Year',color='black',fontsize='15')\n",
    "plt.ylabel('Sentiment Score',color='black',fontsize='15')\n",
    "plt.plot(vscores_part.Score,color='black')\n",
    "plt.show()"
   ]
  },
  {
   "cell_type": "code",
   "execution_count": 56,
   "metadata": {},
   "outputs": [
    {
     "data": {
      "text/plain": [
       "Compound    -6.208127\n",
       "Positive     1.536425\n",
       "Negative     4.056621\n",
       "Neutral     20.403361\n",
       "Score       -0.248325\n",
       "dtype: float64"
      ]
     },
     "execution_count": 56,
     "metadata": {},
     "output_type": "execute_result"
    }
   ],
   "source": [
    "vscores_part.mean()"
   ]
  },
  {
   "cell_type": "code",
   "execution_count": 65,
   "metadata": {},
   "outputs": [
    {
     "data": {
      "text/html": [
       "<div>\n",
       "<style scoped>\n",
       "    .dataframe tbody tr th:only-of-type {\n",
       "        vertical-align: middle;\n",
       "    }\n",
       "\n",
       "    .dataframe tbody tr th {\n",
       "        vertical-align: top;\n",
       "    }\n",
       "\n",
       "    .dataframe thead th {\n",
       "        text-align: right;\n",
       "    }\n",
       "</style>\n",
       "<table border=\"1\" class=\"dataframe\">\n",
       "  <thead>\n",
       "    <tr style=\"text-align: right;\">\n",
       "      <th></th>\n",
       "      <th>index</th>\n",
       "      <th>Date</th>\n",
       "      <th>Compound</th>\n",
       "      <th>Positive</th>\n",
       "      <th>Negative</th>\n",
       "      <th>Neutral</th>\n",
       "      <th>Score</th>\n",
       "    </tr>\n",
       "  </thead>\n",
       "  <tbody>\n",
       "    <tr>\n",
       "      <th>1529</th>\n",
       "      <td>1529</td>\n",
       "      <td>2014-10-29</td>\n",
       "      <td>4.3002</td>\n",
       "      <td>3.3</td>\n",
       "      <td>1.532</td>\n",
       "      <td>21.169</td>\n",
       "      <td>0.172008</td>\n",
       "    </tr>\n",
       "  </tbody>\n",
       "</table>\n",
       "</div>"
      ],
      "text/plain": [
       "      index       Date Compound Positive Negative Neutral     Score\n",
       "1529   1529 2014-10-29   4.3002      3.3    1.532  21.169  0.172008"
      ]
     },
     "execution_count": 65,
     "metadata": {},
     "output_type": "execute_result"
    }
   ],
   "source": [
    "#Want to find the peak value in 2014\n",
    "vscores_part.sort_values('Score', ascending=False).head(1)"
   ]
  },
  {
   "cell_type": "code",
   "execution_count": 112,
   "metadata": {},
   "outputs": [
    {
     "name": "stdout",
     "output_type": "stream",
     "text": [
      "Positive : ['rich', 'supreme', 'justice', 'honour', 'win', 'great', 'free']\n",
      "Negative : ['threat']\n"
     ]
    }
   ],
   "source": [
    "sid = SentimentIntensityAnalyzer()\n",
    "pos_word_list=[]\n",
    "neu_word_list=[]\n",
    "neg_word_list=[]\n",
    "\n",
    "for word in subset:\n",
    "    if (sid.polarity_scores(word)['compound']) >= 0.5:\n",
    "        pos_word_list.append(word)\n",
    "    elif (sid.polarity_scores(word)['compound']) <= -0.5:\n",
    "        neg_word_list.append(word)\n",
    "    else:\n",
    "        neu_word_list.append(word)                \n",
    "\n",
    "print('Positive :',pos_word_list)         \n",
    "print('Negative :',neg_word_list) "
   ]
  },
  {
   "cell_type": "markdown",
   "metadata": {},
   "source": [
    "# LM Analysis "
   ]
  },
  {
   "cell_type": "code",
   "execution_count": 41,
   "metadata": {},
   "outputs": [],
   "source": [
    "lmtokdata = {}\n",
    "lm = ps.LM()\n",
    "lm_tdf = pd.DataFrame (lmtokdata,\n",
    "                    columns = ['LMTokens'])\n",
    "lm_tdf['LMTokens'] = df1.apply(lambda row: lm.tokenize(row['cleaned']), axis=1)"
   ]
  },
  {
   "cell_type": "code",
   "execution_count": 42,
   "metadata": {},
   "outputs": [],
   "source": [
    "##Sorting Data and Performing sentiment analysis on tokenized data##\n",
    "lmscoredata = {}\n",
    "lm_calc_df = pd.DataFrame (lmscoredata,\n",
    "               columns = ['LMSentiment'])\n",
    "lm_calc_df['LMSentiment'] = lm_tdf.apply(lambda row: lm.get_score(row['LMTokens']), axis = 1)"
   ]
  },
  {
   "cell_type": "code",
   "execution_count": 45,
   "metadata": {},
   "outputs": [
    {
     "data": {
      "text/plain": [
       "LMPos     1.992824\n",
       "LMNeg    15.860072\n",
       "LMPol    -0.776902\n",
       "LMSub     0.101411\n",
       "dtype: float64"
      ]
     },
     "execution_count": 45,
     "metadata": {},
     "output_type": "execute_result"
    }
   ],
   "source": [
    "lm_scores = lm_calc_df['LMSentiment'].apply(pd.Series)\n",
    "lm_scores.rename(columns={'Negative': 'LMNeg', 'Polarity': 'LMPol', 'Positive':'LMPos', 'Subjectivity':'LMSub'}, inplace=True)\n",
    "lm_scores['Date']=df1['Date']\n",
    "lm_scores_part=lm_scores[2150:]\n",
    "lm_scores_part.mean()"
   ]
  },
  {
   "cell_type": "code",
   "execution_count": 51,
   "metadata": {},
   "outputs": [
    {
     "data": {
      "image/png": "[encoded data removed]",
      "text/plain": [
       "<Figure size 864x432 with 1 Axes>"
      ]
     },
     "metadata": {
      "needs_background": "light"
     },
     "output_type": "display_data"
    }
   ],
   "source": [
    "lm_scores_part.index = pd.to_datetime(lm_scores_part.Date)\n",
    "plt.figure(figsize=(12,6)) \n",
    "plt.xticks(fontsize =10)\n",
    "plt.yticks(fontsize =10)\n",
    "plt.xlabel('Year',color='black',fontsize='10')\n",
    "plt.ylabel('Sentiment Score',color='black',fontsize='10')\n",
    "plt.plot(lm_scores_part.LMPol,color='black')\n",
    "plt.show()"
   ]
  },
  {
   "cell_type": "markdown",
   "metadata": {},
   "source": [
    "# Machine Learning Models"
   ]
  },
  {
   "cell_type": "markdown",
   "metadata": {},
   "source": [
    "# (1) Naive Bayes"
   ]
  },
  {
   "cell_type": "markdown",
   "metadata": {},
   "source": [
    "### train/test split = 90/10"
   ]
  },
  {
   "cell_type": "code",
   "execution_count": 303,
   "metadata": {},
   "outputs": [
    {
     "data": {
      "text/html": [
       "<div>\n",
       "<style scoped>\n",
       "    .dataframe tbody tr th:only-of-type {\n",
       "        vertical-align: middle;\n",
       "    }\n",
       "\n",
       "    .dataframe tbody tr th {\n",
       "        vertical-align: top;\n",
       "    }\n",
       "\n",
       "    .dataframe thead th {\n",
       "        text-align: right;\n",
       "    }\n",
       "</style>\n",
       "<table border=\"1\" class=\"dataframe\">\n",
       "  <thead>\n",
       "    <tr style=\"text-align: right;\">\n",
       "      <th>Predicted</th>\n",
       "      <th>0</th>\n",
       "      <th>1</th>\n",
       "    </tr>\n",
       "    <tr>\n",
       "      <th>Actual</th>\n",
       "      <th></th>\n",
       "      <th></th>\n",
       "    </tr>\n",
       "  </thead>\n",
       "  <tbody>\n",
       "    <tr>\n",
       "      <th>0</th>\n",
       "      <td>150</td>\n",
       "      <td>34</td>\n",
       "    </tr>\n",
       "    <tr>\n",
       "      <th>1</th>\n",
       "      <td>32</td>\n",
       "      <td>162</td>\n",
       "    </tr>\n",
       "  </tbody>\n",
       "</table>\n",
       "</div>"
      ],
      "text/plain": [
       "Predicted    0    1\n",
       "Actual             \n",
       "0          150   34\n",
       "1           32  162"
      ]
     },
     "execution_count": 303,
     "metadata": {},
     "output_type": "execute_result"
    }
   ],
   "source": [
    "train = df1[df1['Date'] < '20150101']\n",
    "test = df1[df1['Date'] > '20141231']\n",
    "slicedData= train.iloc[:,3]\n",
    "headlines = slicedData.tolist() \n",
    "slicedData= test.iloc[:,3]\n",
    "testheadlines = slicedData.tolist() \n",
    "basicvectorizer = CountVectorizer(ngram_range=(1,1))\n",
    "basictrain = basicvectorizer.fit_transform(headlines)\n",
    "basicmodel = GaussianNB()\n",
    "basicmodel = basicmodel.fit(basictrain.toarray(), train[\"Label\"])\n",
    "basictest = basicvectorizer.transform(testheadlines)\n",
    "predictions = basicmodel.predict(basictest.toarray())\n",
    "result1=pd.crosstab(test[\"Label\"], predictions, rownames=[\"Actual\"], colnames=[\"Predicted\"])\n",
    "result1=pd.DataFrame(result1)\n",
    "pd.crosstab(test[\"Label\"], predictions, rownames=[\"Actual\"], colnames=[\"Predicted\"])"
   ]
  },
  {
   "cell_type": "code",
   "execution_count": 304,
   "metadata": {},
   "outputs": [
    {
     "data": {
      "image/png": "[encoded data removed]",
      "text/plain": [
       "<Figure size 432x288 with 2 Axes>"
      ]
     },
     "metadata": {
      "needs_background": "light"
     },
     "output_type": "display_data"
    }
   ],
   "source": [
    "classes = [\"0\", \"1\"]\n",
    "plt.figure()\n",
    "plt.imshow(result1, interpolation='nearest', cmap=plt.cm.Greys)\n",
    "plt.title(\"Sentiment Analysis\")\n",
    "plt.colorbar()\n",
    "tick_marks = np.arange(len(classes))\n",
    "plt.xticks(tick_marks, classes, rotation=45)\n",
    "plt.yticks(tick_marks, classes)\n",
    "plt.ylabel('True label')\n",
    "plt.xlabel('Predicted label')\n",
    "plt.tight_layout()\n",
    "plt.show()"
   ]
  },
  {
   "cell_type": "code",
   "execution_count": 305,
   "metadata": {},
   "outputs": [
    {
     "name": "stdout",
     "output_type": "stream",
     "text": [
      "(3975, 52140)\n",
      "             precision    recall  f1-score   support\n",
      "\n",
      "          0       0.82      0.82      0.82       184\n",
      "          1       0.83      0.84      0.83       194\n",
      "\n",
      "avg / total       0.83      0.83      0.83       378\n",
      "\n",
      "0.8253968253968254\n"
     ]
    }
   ],
   "source": [
    "print(basictrain.shape)\n",
    "print (classification_report(test[\"Label\"], predictions))\n",
    "print (accuracy_score(test[\"Label\"], predictions))"
   ]
  },
  {
   "cell_type": "markdown",
   "metadata": {},
   "source": [
    "### train/test split=80/20"
   ]
  },
  {
   "cell_type": "code",
   "execution_count": 306,
   "metadata": {},
   "outputs": [
    {
     "data": {
      "text/html": [
       "<div>\n",
       "<style scoped>\n",
       "    .dataframe tbody tr th:only-of-type {\n",
       "        vertical-align: middle;\n",
       "    }\n",
       "\n",
       "    .dataframe tbody tr th {\n",
       "        vertical-align: top;\n",
       "    }\n",
       "\n",
       "    .dataframe thead th {\n",
       "        text-align: right;\n",
       "    }\n",
       "</style>\n",
       "<table border=\"1\" class=\"dataframe\">\n",
       "  <thead>\n",
       "    <tr style=\"text-align: right;\">\n",
       "      <th>Predicted</th>\n",
       "      <th>0</th>\n",
       "      <th>1</th>\n",
       "    </tr>\n",
       "    <tr>\n",
       "      <th>Actual</th>\n",
       "      <th></th>\n",
       "      <th></th>\n",
       "    </tr>\n",
       "  </thead>\n",
       "  <tbody>\n",
       "    <tr>\n",
       "      <th>0</th>\n",
       "      <td>194</td>\n",
       "      <td>101</td>\n",
       "    </tr>\n",
       "    <tr>\n",
       "      <th>1</th>\n",
       "      <td>80</td>\n",
       "      <td>255</td>\n",
       "    </tr>\n",
       "  </tbody>\n",
       "</table>\n",
       "</div>"
      ],
      "text/plain": [
       "Predicted    0    1\n",
       "Actual             \n",
       "0          194  101\n",
       "1           80  255"
      ]
     },
     "execution_count": 306,
     "metadata": {},
     "output_type": "execute_result"
    }
   ],
   "source": [
    "train = df1[df1['Date'] < '20140101']\n",
    "test = df1[df1['Date'] > '20131231']\n",
    "slicedData= train.iloc[:,3]\n",
    "headlines = slicedData.tolist() \n",
    "slicedData= test.iloc[:,3]\n",
    "testheadlines = slicedData.tolist() \n",
    "basicvectorizer = CountVectorizer(ngram_range=(1,1))\n",
    "basictrain = basicvectorizer.fit_transform(headlines)\n",
    "basicmodel = GaussianNB()\n",
    "basicmodel = basicmodel.fit(basictrain.toarray(), train[\"Label\"])\n",
    "basictest = basicvectorizer.transform(testheadlines)\n",
    "predictions = basicmodel.predict(basictest.toarray())\n",
    "result2=pd.crosstab(test[\"Label\"], predictions, rownames=[\"Actual\"], colnames=[\"Predicted\"])\n",
    "result2=pd.DataFrame(result2)\n",
    "pd.crosstab(test[\"Label\"], predictions, rownames=[\"Actual\"], colnames=[\"Predicted\"])"
   ]
  },
  {
   "cell_type": "code",
   "execution_count": 307,
   "metadata": {},
   "outputs": [
    {
     "data": {
      "image/png": "[encoded data removed]",
      "text/plain": [
       "<Figure size 432x288 with 2 Axes>"
      ]
     },
     "metadata": {
      "needs_background": "light"
     },
     "output_type": "display_data"
    }
   ],
   "source": [
    "classes = [\"0\", \"1\"]\n",
    "plt.figure()\n",
    "plt.imshow(result2, interpolation='nearest', cmap=plt.cm.Greys)\n",
    "plt.title(\"Sentiment Analysis\")\n",
    "plt.colorbar()\n",
    "tick_marks = np.arange(len(classes))\n",
    "plt.xticks(tick_marks, classes, rotation=45)\n",
    "plt.yticks(tick_marks, classes)\n",
    "plt.ylabel('True label')\n",
    "plt.xlabel('Predicted label')\n",
    "plt.tight_layout()\n",
    "plt.show()"
   ]
  },
  {
   "cell_type": "code",
   "execution_count": 308,
   "metadata": {},
   "outputs": [
    {
     "name": "stdout",
     "output_type": "stream",
     "text": [
      "(3723, 50084)\n",
      "             precision    recall  f1-score   support\n",
      "\n",
      "          0       0.71      0.66      0.68       295\n",
      "          1       0.72      0.76      0.74       335\n",
      "\n",
      "avg / total       0.71      0.71      0.71       630\n",
      "\n",
      "0.7126984126984127\n"
     ]
    }
   ],
   "source": [
    "print(basictrain.shape)\n",
    "print (classification_report(test[\"Label\"], predictions))\n",
    "print (accuracy_score(test[\"Label\"], predictions))"
   ]
  },
  {
   "cell_type": "markdown",
   "metadata": {},
   "source": [
    "### train/test split=70/30"
   ]
  },
  {
   "cell_type": "code",
   "execution_count": 309,
   "metadata": {},
   "outputs": [
    {
     "data": {
      "text/html": [
       "<div>\n",
       "<style scoped>\n",
       "    .dataframe tbody tr th:only-of-type {\n",
       "        vertical-align: middle;\n",
       "    }\n",
       "\n",
       "    .dataframe tbody tr th {\n",
       "        vertical-align: top;\n",
       "    }\n",
       "\n",
       "    .dataframe thead th {\n",
       "        text-align: right;\n",
       "    }\n",
       "</style>\n",
       "<table border=\"1\" class=\"dataframe\">\n",
       "  <thead>\n",
       "    <tr style=\"text-align: right;\">\n",
       "      <th>Predicted</th>\n",
       "      <th>0</th>\n",
       "      <th>1</th>\n",
       "    </tr>\n",
       "    <tr>\n",
       "      <th>Actual</th>\n",
       "      <th></th>\n",
       "      <th></th>\n",
       "    </tr>\n",
       "  </thead>\n",
       "  <tbody>\n",
       "    <tr>\n",
       "      <th>0</th>\n",
       "      <td>271</td>\n",
       "      <td>129</td>\n",
       "    </tr>\n",
       "    <tr>\n",
       "      <th>1</th>\n",
       "      <td>181</td>\n",
       "      <td>301</td>\n",
       "    </tr>\n",
       "  </tbody>\n",
       "</table>\n",
       "</div>"
      ],
      "text/plain": [
       "Predicted    0    1\n",
       "Actual             \n",
       "0          271  129\n",
       "1          181  301"
      ]
     },
     "execution_count": 309,
     "metadata": {},
     "output_type": "execute_result"
    }
   ],
   "source": [
    "train = df1[df1['Date'] < '20130101']\n",
    "test = df1[df1['Date'] > '20121231']\n",
    "slicedData= train.iloc[:,3]\n",
    "headlines = slicedData.tolist() \n",
    "slicedData= test.iloc[:,3]\n",
    "testheadlines = slicedData.tolist() \n",
    "basicvectorizer = CountVectorizer(ngram_range=(1,1))\n",
    "basictrain = basicvectorizer.fit_transform(headlines)\n",
    "basicmodel = GaussianNB()\n",
    "basicmodel = basicmodel.fit(basictrain.toarray(), train[\"Label\"])\n",
    "basictest = basicvectorizer.transform(testheadlines)\n",
    "predictions = basicmodel.predict(basictest.toarray())\n",
    "result3=pd.crosstab(test[\"Label\"], predictions, rownames=[\"Actual\"], colnames=[\"Predicted\"])\n",
    "result3=pd.DataFrame(result3)\n",
    "pd.crosstab(test[\"Label\"], predictions, rownames=[\"Actual\"], colnames=[\"Predicted\"])"
   ]
  },
  {
   "cell_type": "code",
   "execution_count": 310,
   "metadata": {},
   "outputs": [
    {
     "data": {
      "image/png": "[encoded data removed]",
      "text/plain": [
       "<Figure size 432x288 with 2 Axes>"
      ]
     },
     "metadata": {
      "needs_background": "light"
     },
     "output_type": "display_data"
    }
   ],
   "source": [
    "classes = [\"0\", \"1\"]\n",
    "plt.figure()\n",
    "plt.imshow(result3, interpolation='nearest', cmap=plt.cm.Greys)\n",
    "plt.title(\"Sentiment Analysis\")\n",
    "plt.colorbar()\n",
    "tick_marks = np.arange(len(classes))\n",
    "plt.xticks(tick_marks, classes, rotation=45)\n",
    "plt.yticks(tick_marks, classes)\n",
    "plt.ylabel('True label')\n",
    "plt.xlabel('Predicted label')\n",
    "plt.tight_layout()\n",
    "plt.show()"
   ]
  },
  {
   "cell_type": "code",
   "execution_count": 311,
   "metadata": {},
   "outputs": [
    {
     "name": "stdout",
     "output_type": "stream",
     "text": [
      "(3471, 47991)\n",
      "             precision    recall  f1-score   support\n",
      "\n",
      "          0       0.60      0.68      0.64       400\n",
      "          1       0.70      0.62      0.66       482\n",
      "\n",
      "avg / total       0.65      0.65      0.65       882\n",
      "\n",
      "0.6485260770975056\n"
     ]
    }
   ],
   "source": [
    "print(basictrain.shape)\n",
    "print (classification_report(test[\"Label\"], predictions))\n",
    "print (accuracy_score(test[\"Label\"], predictions))"
   ]
  },
  {
   "cell_type": "markdown",
   "metadata": {},
   "source": [
    "# (2) Random Forest"
   ]
  },
  {
   "cell_type": "markdown",
   "metadata": {},
   "source": [
    "### train/test split = 90/10"
   ]
  },
  {
   "cell_type": "code",
   "execution_count": 317,
   "metadata": {},
   "outputs": [
    {
     "data": {
      "text/html": [
       "<div>\n",
       "<style scoped>\n",
       "    .dataframe tbody tr th:only-of-type {\n",
       "        vertical-align: middle;\n",
       "    }\n",
       "\n",
       "    .dataframe tbody tr th {\n",
       "        vertical-align: top;\n",
       "    }\n",
       "\n",
       "    .dataframe thead th {\n",
       "        text-align: right;\n",
       "    }\n",
       "</style>\n",
       "<table border=\"1\" class=\"dataframe\">\n",
       "  <thead>\n",
       "    <tr style=\"text-align: right;\">\n",
       "      <th>Predicted</th>\n",
       "      <th>0</th>\n",
       "      <th>1</th>\n",
       "    </tr>\n",
       "    <tr>\n",
       "      <th>Actual</th>\n",
       "      <th></th>\n",
       "      <th></th>\n",
       "    </tr>\n",
       "  </thead>\n",
       "  <tbody>\n",
       "    <tr>\n",
       "      <th>0</th>\n",
       "      <td>139</td>\n",
       "      <td>45</td>\n",
       "    </tr>\n",
       "    <tr>\n",
       "      <th>1</th>\n",
       "      <td>16</td>\n",
       "      <td>178</td>\n",
       "    </tr>\n",
       "  </tbody>\n",
       "</table>\n",
       "</div>"
      ],
      "text/plain": [
       "Predicted    0    1\n",
       "Actual             \n",
       "0          139   45\n",
       "1           16  178"
      ]
     },
     "execution_count": 317,
     "metadata": {},
     "output_type": "execute_result"
    }
   ],
   "source": [
    "train = df1[df1['Date'] < '20150101']\n",
    "test = df1[df1['Date'] > '20141231']\n",
    "slicedData= train.iloc[:,3]\n",
    "headlines = slicedData.tolist() \n",
    "slicedData= test.iloc[:,3]\n",
    "testheadlines = slicedData.tolist() \n",
    "basicvectorizer = CountVectorizer(ngram_range=(1,1))\n",
    "basictrain = basicvectorizer.fit_transform(headlines)\n",
    "basicmodel = RandomForestClassifier(n_estimators=200, criterion='entropy',max_features='auto')\n",
    "basicmodel = basicmodel.fit(basictrain.toarray(), train[\"Label\"])\n",
    "basictest = basicvectorizer.transform(testheadlines)\n",
    "predictions = basicmodel.predict(basictest.toarray())\n",
    "result4=pd.crosstab(test[\"Label\"], predictions, rownames=[\"Actual\"], colnames=[\"Predicted\"])\n",
    "result4=pd.DataFrame(result4)\n",
    "pd.crosstab(test[\"Label\"], predictions, rownames=[\"Actual\"], colnames=[\"Predicted\"])"
   ]
  },
  {
   "cell_type": "code",
   "execution_count": 318,
   "metadata": {},
   "outputs": [
    {
     "data": {
      "image/png": "[encoded data removed]",
      "text/plain": [
       "<Figure size 432x288 with 2 Axes>"
      ]
     },
     "metadata": {
      "needs_background": "light"
     },
     "output_type": "display_data"
    }
   ],
   "source": [
    "classes = [\"0\", \"1\"]\n",
    "plt.figure()\n",
    "plt.imshow(result4, interpolation='nearest', cmap=plt.cm.Greys)\n",
    "plt.title(\"Sentiment Analysis\")\n",
    "plt.colorbar()\n",
    "tick_marks = np.arange(len(classes))\n",
    "plt.xticks(tick_marks, classes, rotation=45)\n",
    "plt.yticks(tick_marks, classes)\n",
    "plt.ylabel('True label')\n",
    "plt.xlabel('Predicted label')\n",
    "plt.tight_layout()\n",
    "plt.show()"
   ]
  },
  {
   "cell_type": "code",
   "execution_count": 319,
   "metadata": {},
   "outputs": [
    {
     "name": "stdout",
     "output_type": "stream",
     "text": [
      "(3975, 52140)\n",
      "             precision    recall  f1-score   support\n",
      "\n",
      "          0       0.90      0.76      0.82       184\n",
      "          1       0.80      0.92      0.85       194\n",
      "\n",
      "avg / total       0.85      0.84      0.84       378\n",
      "\n",
      "0.8386243386243386\n"
     ]
    }
   ],
   "source": [
    "print(basictrain.shape)\n",
    "print (classification_report(test[\"Label\"], predictions))\n",
    "print (accuracy_score(test[\"Label\"], predictions))"
   ]
  },
  {
   "cell_type": "markdown",
   "metadata": {},
   "source": [
    "### train/test split=80/20 "
   ]
  },
  {
   "cell_type": "code",
   "execution_count": 320,
   "metadata": {},
   "outputs": [
    {
     "data": {
      "text/html": [
       "<div>\n",
       "<style scoped>\n",
       "    .dataframe tbody tr th:only-of-type {\n",
       "        vertical-align: middle;\n",
       "    }\n",
       "\n",
       "    .dataframe tbody tr th {\n",
       "        vertical-align: top;\n",
       "    }\n",
       "\n",
       "    .dataframe thead th {\n",
       "        text-align: right;\n",
       "    }\n",
       "</style>\n",
       "<table border=\"1\" class=\"dataframe\">\n",
       "  <thead>\n",
       "    <tr style=\"text-align: right;\">\n",
       "      <th>Predicted</th>\n",
       "      <th>0</th>\n",
       "      <th>1</th>\n",
       "    </tr>\n",
       "    <tr>\n",
       "      <th>Actual</th>\n",
       "      <th></th>\n",
       "      <th></th>\n",
       "    </tr>\n",
       "  </thead>\n",
       "  <tbody>\n",
       "    <tr>\n",
       "      <th>0</th>\n",
       "      <td>139</td>\n",
       "      <td>156</td>\n",
       "    </tr>\n",
       "    <tr>\n",
       "      <th>1</th>\n",
       "      <td>23</td>\n",
       "      <td>312</td>\n",
       "    </tr>\n",
       "  </tbody>\n",
       "</table>\n",
       "</div>"
      ],
      "text/plain": [
       "Predicted    0    1\n",
       "Actual             \n",
       "0          139  156\n",
       "1           23  312"
      ]
     },
     "execution_count": 320,
     "metadata": {},
     "output_type": "execute_result"
    }
   ],
   "source": [
    "train = df1[df1['Date'] < '20140101']\n",
    "test = df1[df1['Date'] > '20131231']\n",
    "slicedData= train.iloc[:,3]\n",
    "headlines = slicedData.tolist() \n",
    "slicedData= test.iloc[:,3]\n",
    "testheadlines = slicedData.tolist() \n",
    "basicvectorizer = CountVectorizer(ngram_range=(1,1))\n",
    "basictrain = basicvectorizer.fit_transform(headlines)\n",
    "basicmodel = RandomForestClassifier(n_estimators=200, criterion='entropy',max_features='auto')\n",
    "basicmodel = basicmodel.fit(basictrain.toarray(), train[\"Label\"])\n",
    "basictest = basicvectorizer.transform(testheadlines)\n",
    "predictions = basicmodel.predict(basictest.toarray())\n",
    "result5=pd.crosstab(test[\"Label\"], predictions, rownames=[\"Actual\"], colnames=[\"Predicted\"])\n",
    "result5=pd.DataFrame(result5)\n",
    "pd.crosstab(test[\"Label\"], predictions, rownames=[\"Actual\"], colnames=[\"Predicted\"])"
   ]
  },
  {
   "cell_type": "code",
   "execution_count": 321,
   "metadata": {},
   "outputs": [
    {
     "data": {
      "image/png": "[encoded data removed]",
      "text/plain": [
       "<Figure size 432x288 with 2 Axes>"
      ]
     },
     "metadata": {
      "needs_background": "light"
     },
     "output_type": "display_data"
    }
   ],
   "source": [
    "classes = [\"0\", \"1\"]\n",
    "plt.figure()\n",
    "plt.imshow(result5, interpolation='nearest', cmap=plt.cm.Greys)\n",
    "plt.title(\"Sentiment Analysis\")\n",
    "plt.colorbar()\n",
    "tick_marks = np.arange(len(classes))\n",
    "plt.xticks(tick_marks, classes, rotation=45)\n",
    "plt.yticks(tick_marks, classes)\n",
    "plt.ylabel('True label')\n",
    "plt.xlabel('Predicted label')\n",
    "plt.tight_layout()\n",
    "plt.show()"
   ]
  },
  {
   "cell_type": "code",
   "execution_count": 322,
   "metadata": {},
   "outputs": [
    {
     "name": "stdout",
     "output_type": "stream",
     "text": [
      "(3723, 50084)\n",
      "             precision    recall  f1-score   support\n",
      "\n",
      "          0       0.86      0.47      0.61       295\n",
      "          1       0.67      0.93      0.78       335\n",
      "\n",
      "avg / total       0.76      0.72      0.70       630\n",
      "\n",
      "0.7158730158730159\n"
     ]
    }
   ],
   "source": [
    "print(basictrain.shape)\n",
    "print (classification_report(test[\"Label\"], predictions))\n",
    "print (accuracy_score(test[\"Label\"], predictions))"
   ]
  },
  {
   "cell_type": "markdown",
   "metadata": {},
   "source": [
    "### train/test split=70/30"
   ]
  },
  {
   "cell_type": "code",
   "execution_count": 323,
   "metadata": {},
   "outputs": [
    {
     "data": {
      "text/html": [
       "<div>\n",
       "<style scoped>\n",
       "    .dataframe tbody tr th:only-of-type {\n",
       "        vertical-align: middle;\n",
       "    }\n",
       "\n",
       "    .dataframe tbody tr th {\n",
       "        vertical-align: top;\n",
       "    }\n",
       "\n",
       "    .dataframe thead th {\n",
       "        text-align: right;\n",
       "    }\n",
       "</style>\n",
       "<table border=\"1\" class=\"dataframe\">\n",
       "  <thead>\n",
       "    <tr style=\"text-align: right;\">\n",
       "      <th>Predicted</th>\n",
       "      <th>0</th>\n",
       "      <th>1</th>\n",
       "    </tr>\n",
       "    <tr>\n",
       "      <th>Actual</th>\n",
       "      <th></th>\n",
       "      <th></th>\n",
       "    </tr>\n",
       "  </thead>\n",
       "  <tbody>\n",
       "    <tr>\n",
       "      <th>0</th>\n",
       "      <td>149</td>\n",
       "      <td>251</td>\n",
       "    </tr>\n",
       "    <tr>\n",
       "      <th>1</th>\n",
       "      <td>43</td>\n",
       "      <td>439</td>\n",
       "    </tr>\n",
       "  </tbody>\n",
       "</table>\n",
       "</div>"
      ],
      "text/plain": [
       "Predicted    0    1\n",
       "Actual             \n",
       "0          149  251\n",
       "1           43  439"
      ]
     },
     "execution_count": 323,
     "metadata": {},
     "output_type": "execute_result"
    }
   ],
   "source": [
    "train = df1[df1['Date'] < '20130101']\n",
    "test = df1[df1['Date'] > '20121231']\n",
    "slicedData= train.iloc[:,3]\n",
    "headlines = slicedData.tolist() \n",
    "slicedData= test.iloc[:,3]\n",
    "testheadlines = slicedData.tolist() \n",
    "basicvectorizer = CountVectorizer(ngram_range=(1,1))\n",
    "basictrain = basicvectorizer.fit_transform(headlines)\n",
    "basicmodel = RandomForestClassifier(n_estimators=200, criterion='entropy',max_features='auto')\n",
    "basicmodel = basicmodel.fit(basictrain.toarray(), train[\"Label\"])\n",
    "basictest = basicvectorizer.transform(testheadlines)\n",
    "predictions = basicmodel.predict(basictest.toarray())\n",
    "result6=pd.crosstab(test[\"Label\"], predictions, rownames=[\"Actual\"], colnames=[\"Predicted\"])\n",
    "result6=pd.DataFrame(result6)\n",
    "pd.crosstab(test[\"Label\"], predictions, rownames=[\"Actual\"], colnames=[\"Predicted\"])"
   ]
  },
  {
   "cell_type": "code",
   "execution_count": 324,
   "metadata": {},
   "outputs": [
    {
     "data": {
      "image/png": "[encoded data removed]",
      "text/plain": [
       "<Figure size 432x288 with 2 Axes>"
      ]
     },
     "metadata": {
      "needs_background": "light"
     },
     "output_type": "display_data"
    }
   ],
   "source": [
    "classes = [\"0\", \"1\"]\n",
    "plt.figure()\n",
    "plt.imshow(result6, interpolation='nearest', cmap=plt.cm.Greys)\n",
    "plt.title(\"Sentiment Analysis\")\n",
    "plt.colorbar()\n",
    "tick_marks = np.arange(len(classes))\n",
    "plt.xticks(tick_marks, classes, rotation=45)\n",
    "plt.yticks(tick_marks, classes)\n",
    "plt.ylabel('True label')\n",
    "plt.xlabel('Predicted label')\n",
    "plt.tight_layout()\n",
    "plt.show()"
   ]
  },
  {
   "cell_type": "code",
   "execution_count": 325,
   "metadata": {},
   "outputs": [
    {
     "name": "stdout",
     "output_type": "stream",
     "text": [
      "(3471, 47991)\n",
      "             precision    recall  f1-score   support\n",
      "\n",
      "          0       0.78      0.37      0.50       400\n",
      "          1       0.64      0.91      0.75       482\n",
      "\n",
      "avg / total       0.70      0.67      0.64       882\n",
      "\n",
      "0.6666666666666666\n"
     ]
    }
   ],
   "source": [
    "print(basictrain.shape)\n",
    "print (classification_report(test[\"Label\"], predictions))\n",
    "print (accuracy_score(test[\"Label\"], predictions))"
   ]
  },
  {
   "cell_type": "markdown",
   "metadata": {},
   "source": [
    "# (3) SVM"
   ]
  },
  {
   "cell_type": "markdown",
   "metadata": {},
   "source": [
    "### train/test=90/10"
   ]
  },
  {
   "cell_type": "code",
   "execution_count": 292,
   "metadata": {},
   "outputs": [
    {
     "data": {
      "text/html": [
       "<div>\n",
       "<style scoped>\n",
       "    .dataframe tbody tr th:only-of-type {\n",
       "        vertical-align: middle;\n",
       "    }\n",
       "\n",
       "    .dataframe tbody tr th {\n",
       "        vertical-align: top;\n",
       "    }\n",
       "\n",
       "    .dataframe thead th {\n",
       "        text-align: right;\n",
       "    }\n",
       "</style>\n",
       "<table border=\"1\" class=\"dataframe\">\n",
       "  <thead>\n",
       "    <tr style=\"text-align: right;\">\n",
       "      <th>Predicted</th>\n",
       "      <th>0</th>\n",
       "      <th>1</th>\n",
       "    </tr>\n",
       "    <tr>\n",
       "      <th>Actual</th>\n",
       "      <th></th>\n",
       "      <th></th>\n",
       "    </tr>\n",
       "  </thead>\n",
       "  <tbody>\n",
       "    <tr>\n",
       "      <th>0</th>\n",
       "      <td>151</td>\n",
       "      <td>33</td>\n",
       "    </tr>\n",
       "    <tr>\n",
       "      <th>1</th>\n",
       "      <td>29</td>\n",
       "      <td>165</td>\n",
       "    </tr>\n",
       "  </tbody>\n",
       "</table>\n",
       "</div>"
      ],
      "text/plain": [
       "Predicted    0    1\n",
       "Actual             \n",
       "0          151   33\n",
       "1           29  165"
      ]
     },
     "execution_count": 292,
     "metadata": {},
     "output_type": "execute_result"
    }
   ],
   "source": [
    "train = df1[df1['Date'] < '20150101']\n",
    "test = df1[df1['Date'] > '20141231']\n",
    "slicedData= train.iloc[:,3]\n",
    "headlines = slicedData.tolist() \n",
    "slicedData= test.iloc[:,3]\n",
    "testheadlines = slicedData.tolist() \n",
    "basicvectorizer = CountVectorizer(ngram_range=(1,1))\n",
    "basictrain = basicvectorizer.fit_transform(headlines)\n",
    "basicmodel = svm.LinearSVC(C=0.1, class_weight='balanced')\n",
    "basicmodel = basicmodel.fit(basictrain.toarray(), train[\"Label\"])\n",
    "basictest = basicvectorizer.transform(testheadlines)\n",
    "predictions = basicmodel.predict(basictest.toarray())\n",
    "result7=pd.crosstab(test[\"Label\"], predictions, rownames=[\"Actual\"], colnames=[\"Predicted\"])\n",
    "result7=pd.DataFrame(result7)\n",
    "pd.crosstab(test[\"Label\"], predictions, rownames=[\"Actual\"], colnames=[\"Predicted\"])"
   ]
  },
  {
   "cell_type": "code",
   "execution_count": 293,
   "metadata": {},
   "outputs": [
    {
     "data": {
      "image/png": "[encoded data removed]",
      "text/plain": [
       "<Figure size 432x288 with 2 Axes>"
      ]
     },
     "metadata": {
      "needs_background": "light"
     },
     "output_type": "display_data"
    }
   ],
   "source": [
    "classes = [\"0\", \"1\"]\n",
    "plt.figure()\n",
    "plt.imshow(result7, interpolation='nearest', cmap=plt.cm.Greys)\n",
    "plt.title(\"Sentiment Analysis\")\n",
    "plt.colorbar()\n",
    "tick_marks = np.arange(len(classes))\n",
    "plt.xticks(tick_marks, classes, rotation=45)\n",
    "plt.yticks(tick_marks, classes)\n",
    "plt.ylabel('True label')\n",
    "plt.xlabel('Predicted label')\n",
    "plt.tight_layout()\n",
    "plt.show()"
   ]
  },
  {
   "cell_type": "code",
   "execution_count": 294,
   "metadata": {},
   "outputs": [
    {
     "name": "stdout",
     "output_type": "stream",
     "text": [
      "(3975, 52140)\n",
      "             precision    recall  f1-score   support\n",
      "\n",
      "          0       0.84      0.82      0.83       184\n",
      "          1       0.83      0.85      0.84       194\n",
      "\n",
      "avg / total       0.84      0.84      0.84       378\n",
      "\n",
      "0.8359788359788359\n"
     ]
    }
   ],
   "source": [
    "print(basictrain.shape)\n",
    "print (classification_report(test[\"Label\"], predictions))\n",
    "print (accuracy_score(test[\"Label\"], predictions))"
   ]
  },
  {
   "cell_type": "markdown",
   "metadata": {},
   "source": [
    "### train/test=80/20"
   ]
  },
  {
   "cell_type": "code",
   "execution_count": 295,
   "metadata": {},
   "outputs": [
    {
     "data": {
      "text/html": [
       "<div>\n",
       "<style scoped>\n",
       "    .dataframe tbody tr th:only-of-type {\n",
       "        vertical-align: middle;\n",
       "    }\n",
       "\n",
       "    .dataframe tbody tr th {\n",
       "        vertical-align: top;\n",
       "    }\n",
       "\n",
       "    .dataframe thead th {\n",
       "        text-align: right;\n",
       "    }\n",
       "</style>\n",
       "<table border=\"1\" class=\"dataframe\">\n",
       "  <thead>\n",
       "    <tr style=\"text-align: right;\">\n",
       "      <th>Predicted</th>\n",
       "      <th>0</th>\n",
       "      <th>1</th>\n",
       "    </tr>\n",
       "    <tr>\n",
       "      <th>Actual</th>\n",
       "      <th></th>\n",
       "      <th></th>\n",
       "    </tr>\n",
       "  </thead>\n",
       "  <tbody>\n",
       "    <tr>\n",
       "      <th>0</th>\n",
       "      <td>160</td>\n",
       "      <td>135</td>\n",
       "    </tr>\n",
       "    <tr>\n",
       "      <th>1</th>\n",
       "      <td>84</td>\n",
       "      <td>251</td>\n",
       "    </tr>\n",
       "  </tbody>\n",
       "</table>\n",
       "</div>"
      ],
      "text/plain": [
       "Predicted    0    1\n",
       "Actual             \n",
       "0          160  135\n",
       "1           84  251"
      ]
     },
     "execution_count": 295,
     "metadata": {},
     "output_type": "execute_result"
    }
   ],
   "source": [
    "train = df1[df1['Date'] < '20140101']\n",
    "test = df1[df1['Date'] > '20131231']\n",
    "slicedData= train.iloc[:,3]\n",
    "headlines = slicedData.tolist() \n",
    "slicedData= test.iloc[:,3]\n",
    "testheadlines = slicedData.tolist() \n",
    "basicvectorizer = CountVectorizer(ngram_range=(1,1))\n",
    "basictrain = basicvectorizer.fit_transform(headlines)\n",
    "basicmodel = svm.LinearSVC(C=0.1, class_weight='balanced')\n",
    "basicmodel = basicmodel.fit(basictrain.toarray(), train[\"Label\"])\n",
    "basictest = basicvectorizer.transform(testheadlines)\n",
    "predictions = basicmodel.predict(basictest.toarray())\n",
    "result8=pd.crosstab(test[\"Label\"], predictions, rownames=[\"Actual\"], colnames=[\"Predicted\"])\n",
    "result8=pd.DataFrame(result8)\n",
    "pd.crosstab(test[\"Label\"], predictions, rownames=[\"Actual\"], colnames=[\"Predicted\"])"
   ]
  },
  {
   "cell_type": "code",
   "execution_count": 296,
   "metadata": {},
   "outputs": [
    {
     "data": {
      "image/png": "[encoded data removed]",
      "text/plain": [
       "<Figure size 432x288 with 2 Axes>"
      ]
     },
     "metadata": {
      "needs_background": "light"
     },
     "output_type": "display_data"
    }
   ],
   "source": [
    "classes = [\"0\", \"1\"]\n",
    "plt.figure()\n",
    "plt.imshow(result8, interpolation='nearest', cmap=plt.cm.Greys)\n",
    "plt.title(\"Sentiment Analysis\")\n",
    "plt.colorbar()\n",
    "tick_marks = np.arange(len(classes))\n",
    "plt.xticks(tick_marks, classes, rotation=45)\n",
    "plt.yticks(tick_marks, classes)\n",
    "plt.ylabel('True label')\n",
    "plt.xlabel('Predicted label')\n",
    "plt.tight_layout()\n",
    "plt.show()"
   ]
  },
  {
   "cell_type": "code",
   "execution_count": 297,
   "metadata": {},
   "outputs": [
    {
     "name": "stdout",
     "output_type": "stream",
     "text": [
      "(3723, 50084)\n",
      "             precision    recall  f1-score   support\n",
      "\n",
      "          0       0.66      0.54      0.59       295\n",
      "          1       0.65      0.75      0.70       335\n",
      "\n",
      "avg / total       0.65      0.65      0.65       630\n",
      "\n",
      "0.6523809523809524\n"
     ]
    }
   ],
   "source": [
    "print(basictrain.shape)\n",
    "print (classification_report(test[\"Label\"], predictions))\n",
    "print (accuracy_score(test[\"Label\"], predictions))"
   ]
  },
  {
   "cell_type": "markdown",
   "metadata": {},
   "source": [
    "### train/test=70/30"
   ]
  },
  {
   "cell_type": "code",
   "execution_count": 390,
   "metadata": {},
   "outputs": [
    {
     "data": {
      "text/html": [
       "<div>\n",
       "<style scoped>\n",
       "    .dataframe tbody tr th:only-of-type {\n",
       "        vertical-align: middle;\n",
       "    }\n",
       "\n",
       "    .dataframe tbody tr th {\n",
       "        vertical-align: top;\n",
       "    }\n",
       "\n",
       "    .dataframe thead th {\n",
       "        text-align: right;\n",
       "    }\n",
       "</style>\n",
       "<table border=\"1\" class=\"dataframe\">\n",
       "  <thead>\n",
       "    <tr style=\"text-align: right;\">\n",
       "      <th>Predicted</th>\n",
       "      <th>0</th>\n",
       "      <th>1</th>\n",
       "    </tr>\n",
       "    <tr>\n",
       "      <th>Actual</th>\n",
       "      <th></th>\n",
       "      <th></th>\n",
       "    </tr>\n",
       "  </thead>\n",
       "  <tbody>\n",
       "    <tr>\n",
       "      <th>0</th>\n",
       "      <td>212</td>\n",
       "      <td>188</td>\n",
       "    </tr>\n",
       "    <tr>\n",
       "      <th>1</th>\n",
       "      <td>127</td>\n",
       "      <td>355</td>\n",
       "    </tr>\n",
       "  </tbody>\n",
       "</table>\n",
       "</div>"
      ],
      "text/plain": [
       "Predicted    0    1\n",
       "Actual             \n",
       "0          212  188\n",
       "1          127  355"
      ]
     },
     "execution_count": 390,
     "metadata": {},
     "output_type": "execute_result"
    }
   ],
   "source": [
    "train = df1[df1['Date'] < '20130101']\n",
    "test = df1[df1['Date'] > '20121231']\n",
    "slicedData= train.iloc[:,3]\n",
    "headlines = slicedData.tolist() \n",
    "slicedData= test.iloc[:,3]\n",
    "testheadlines = slicedData.tolist() \n",
    "basicvectorizer = CountVectorizer(ngram_range=(1,1))\n",
    "basictrain = basicvectorizer.fit_transform(headlines)\n",
    "basicmodel = svm.LinearSVC(C=0.1, class_weight='balanced')\n",
    "basicmodel = basicmodel.fit(basictrain.toarray(), train[\"Label\"])\n",
    "basictest = basicvectorizer.transform(testheadlines)\n",
    "predictions = basicmodel.predict(basictest.toarray())\n",
    "result9=pd.crosstab(test[\"Label\"], predictions, rownames=[\"Actual\"], colnames=[\"Predicted\"])\n",
    "result9=pd.DataFrame(result9)\n",
    "pd.crosstab(test[\"Label\"], predictions, rownames=[\"Actual\"], colnames=[\"Predicted\"])"
   ]
  },
  {
   "cell_type": "code",
   "execution_count": 391,
   "metadata": {},
   "outputs": [
    {
     "data": {
      "image/png": "[encoded data removed]",
      "text/plain": [
       "<Figure size 432x288 with 2 Axes>"
      ]
     },
     "metadata": {
      "needs_background": "light"
     },
     "output_type": "display_data"
    }
   ],
   "source": [
    "classes = [\"0\", \"1\"]\n",
    "plt.figure()\n",
    "plt.imshow(result9, interpolation='nearest', cmap=plt.cm.Greys)\n",
    "plt.title(\"Sentiment Analysis\")\n",
    "plt.colorbar()\n",
    "tick_marks = np.arange(len(classes))\n",
    "plt.xticks(tick_marks, classes, rotation=45)\n",
    "plt.yticks(tick_marks, classes)\n",
    "plt.ylabel('True label')\n",
    "plt.xlabel('Predicted label')\n",
    "plt.tight_layout()\n",
    "plt.show()"
   ]
  },
  {
   "cell_type": "code",
   "execution_count": 392,
   "metadata": {},
   "outputs": [
    {
     "name": "stdout",
     "output_type": "stream",
     "text": [
      "(3471, 47991)\n",
      "             precision    recall  f1-score   support\n",
      "\n",
      "          0       0.63      0.53      0.57       400\n",
      "          1       0.65      0.74      0.69       482\n",
      "\n",
      "avg / total       0.64      0.64      0.64       882\n",
      "\n",
      "0.6428571428571429\n"
     ]
    }
   ],
   "source": [
    "print(basictrain.shape)\n",
    "print (classification_report(test[\"Label\"], predictions))\n",
    "print (accuracy_score(test[\"Label\"], predictions))"
   ]
  },
  {
   "cell_type": "code",
   "execution_count": 394,
   "metadata": {},
   "outputs": [
    {
     "data": {
      "image/png": "[encoded data removed]",
      "text/plain": [
       "<Figure size 864x432 with 18 Axes>"
      ]
     },
     "metadata": {
      "needs_background": "light"
     },
     "output_type": "display_data"
    }
   ],
   "source": [
    "# Plot the above 9 pics together\n",
    "plt.figure(figsize=figsize)\n",
    "ax1 = plt.subplot(3,3,1)\n",
    "ax2 = plt.subplot(3,3,2)\n",
    "ax3 = plt.subplot(3,3,3)\n",
    "ax4 = plt.subplot(3,3,4)\n",
    "ax5 = plt.subplot(3,3,5)\n",
    "ax6 = plt.subplot(3,3,6)\n",
    "ax7 = plt.subplot(3,3,7)\n",
    "ax8 = plt.subplot(3,3,8)\n",
    "ax9 = plt.subplot(3,3,9)\n",
    "plt.sca(ax1)\n",
    "plt.imshow(result1, interpolation='nearest', cmap=plt.cm.Greys)\n",
    "plt.title(\"Naive Bayes(90%/10%)\")\n",
    "plt.colorbar()\n",
    "tick_marks = np.arange(len(classes))\n",
    "plt.xticks(tick_marks, classes, rotation=45)\n",
    "plt.yticks(tick_marks, classes)\n",
    "plt.ylabel('True label')\n",
    "plt.xlabel('Predicted label')\n",
    "plt.tight_layout()\n",
    "plt.sca(ax2)\n",
    "plt.imshow(result2, interpolation='nearest', cmap=plt.cm.Greys)\n",
    "plt.title(\"Naive Bayes(80%/20%)\")\n",
    "plt.colorbar()\n",
    "tick_marks = np.arange(len(classes))\n",
    "plt.xticks(tick_marks, classes, rotation=45)\n",
    "plt.yticks(tick_marks, classes)\n",
    "plt.ylabel('True label')\n",
    "plt.xlabel('Predicted label')\n",
    "plt.tight_layout()\n",
    "plt.sca(ax3)\n",
    "plt.imshow(result3, interpolation='nearest', cmap=plt.cm.Greys)\n",
    "plt.title(\"Naive Bayes(70%/30%)\")\n",
    "plt.colorbar()\n",
    "tick_marks = np.arange(len(classes))\n",
    "plt.xticks(tick_marks, classes, rotation=45)\n",
    "plt.yticks(tick_marks, classes)\n",
    "plt.ylabel('True label')\n",
    "plt.xlabel('Predicted label')\n",
    "plt.tight_layout()\n",
    "\n",
    "plt.sca(ax4)\n",
    "plt.imshow(result4, interpolation='nearest', cmap=plt.cm.Greys)\n",
    "plt.title(\"Random Forest(90%/10%)\")\n",
    "plt.colorbar()\n",
    "tick_marks = np.arange(len(classes))\n",
    "plt.xticks(tick_marks, classes, rotation=45)\n",
    "plt.yticks(tick_marks, classes)\n",
    "plt.ylabel('True label')\n",
    "plt.xlabel('Predicted label')\n",
    "plt.tight_layout()\n",
    "plt.sca(ax5)\n",
    "plt.imshow(result5, interpolation='nearest', cmap=plt.cm.Greys)\n",
    "plt.title(\"Random Forest(80%/20%)\")\n",
    "plt.colorbar()\n",
    "tick_marks = np.arange(len(classes))\n",
    "plt.xticks(tick_marks, classes, rotation=45)\n",
    "plt.yticks(tick_marks, classes)\n",
    "plt.ylabel('True label')\n",
    "plt.xlabel('Predicted label')\n",
    "plt.tight_layout()\n",
    "plt.sca(ax6)\n",
    "plt.imshow(result6, interpolation='nearest', cmap=plt.cm.Greys)\n",
    "plt.title(\"Random Forest(70%/30%)\")\n",
    "plt.colorbar()\n",
    "tick_marks = np.arange(len(classes))\n",
    "plt.xticks(tick_marks, classes, rotation=45)\n",
    "plt.yticks(tick_marks, classes)\n",
    "plt.ylabel('True label')\n",
    "plt.xlabel('Predicted label')\n",
    "plt.tight_layout()\n",
    "\n",
    "plt.sca(ax7)\n",
    "plt.imshow(result7, interpolation='nearest', cmap=plt.cm.Greys)\n",
    "plt.title(\"SVM(90%/10%)\")\n",
    "plt.colorbar()\n",
    "tick_marks = np.arange(len(classes))\n",
    "plt.xticks(tick_marks, classes, rotation=45)\n",
    "plt.yticks(tick_marks, classes)\n",
    "plt.ylabel('True label')\n",
    "plt.xlabel('Predicted label')\n",
    "plt.tight_layout()\n",
    "plt.sca(ax8)\n",
    "plt.imshow(result8, interpolation='nearest', cmap=plt.cm.Greys)\n",
    "plt.title(\"SVM(80%/20%)\")\n",
    "plt.colorbar()\n",
    "tick_marks = np.arange(len(classes))\n",
    "plt.xticks(tick_marks, classes, rotation=45)\n",
    "plt.yticks(tick_marks, classes)\n",
    "plt.ylabel('True label')\n",
    "plt.xlabel('Predicted label')\n",
    "plt.tight_layout()\n",
    "plt.sca(ax9)\n",
    "plt.imshow(result9, interpolation='nearest', cmap=plt.cm.Greys)\n",
    "plt.title(\"SVM(70%/30%)\")\n",
    "plt.colorbar()\n",
    "tick_marks = np.arange(len(classes))\n",
    "plt.xticks(tick_marks, classes, rotation=45)\n",
    "plt.yticks(tick_marks, classes)\n",
    "plt.ylabel('True label')\n",
    "plt.xlabel('Predicted label')\n",
    "plt.tight_layout()\n",
    "\n",
    "plt.show()"
   ]
  },
  {
   "cell_type": "code",
   "execution_count": null,
   "metadata": {},
   "outputs": [],
   "source": []
  }
 ],
 "metadata": {
  "kernelspec": {
   "display_name": "Python 3",
   "language": "python",
   "name": "python3"
  },
  "language_info": {
   "codemirror_mode": {
    "name": "ipython",
    "version": 3
   },
   "file_extension": ".py",
   "mimetype": "text/x-python",
   "name": "python",
   "nbconvert_exporter": "python",
   "pygments_lexer": "ipython3",
   "version": "3.6.8"
  }
 },
 "nbformat": 4,
 "nbformat_minor": 2
}
